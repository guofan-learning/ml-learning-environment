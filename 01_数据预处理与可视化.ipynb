{
 "cells": [
  {
   "cell_type": "markdown",
   "metadata": {},
   "source": [
    "# 数据预处理与可视化示例\n",
    "\n",
    "这个笔记本演示了基本的数据处理和可视化技术。"
   ]
  },
  {
   "cell_type": "code",
   "execution_count": null,
   "metadata": {},
   "outputs": [],
   "source": [
    "# 导入必要的库\n",
    "import numpy as np\n",
    "import pandas as pd\n",
    "import matplotlib.pyplot as plt\n",
    "import seaborn as sns\n",
    "\n",
    "print(\"所有库已成功导入！\")"
   ]
  },
  {
   "cell_type": "code",
   "execution_count": null,
   "metadata": {},
   "outputs": [],
   "source": [
    "# 创建示例数据\n",
    "data = pd.DataFrame({\n",
    "    '年龄': [25, 30, 35, 40, 45, 50, 55, 60, 65, 70],\n",
    "    '收入': [30000, 40000, 50000, 60000, 70000, 80000, 90000, 100000, 110000, 120000],\n",
    "    '购买意愿': [0, 1, 1, 0, 1, 1, 0, 1, 0, 1]\n",
    "})\n",
    "\n",
    "print(\"示例数据：\")\n",
    "data.head()"
   ]
  },
  {
   "cell_type": "code",
   "execution_count": null,
   "metadata": {},
   "outputs": [],
   "source": [
    "# 数据可视化\n",
    "plt.figure(figsize=(10, 6))\n",
    "plt.scatter(data['年龄'], data['收入'], c=data['购买意愿'], cmap='viridis')\n",
    "plt.xlabel('年龄')\n",
    "plt.ylabel('收入')\n",
    "plt.title('年龄 vs 收入 (颜色表示购买意愿)')\n",
    "plt.colorbar()\n",
    "plt.show()"
   ]
  }
 ],
 "metadata": {
  "kernelspec": {
   "display_name": "Python 3",
   "language": "python",
   "name": "python3"
  },
  "language_info": {
   "name": "python",
   "version": "3.8.0"
  }
 },
 "nbformat": 4,
 "nbformat_minor": 4
}
