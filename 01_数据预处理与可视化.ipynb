print("Hello Binder!")
import numpy as np
import matplotlib.pyplot as plt

x = np.linspace(0, 10, 100)
y = np.sin(x)

plt.plot(x, y)
plt.title("Simple Test Plot")
plt.show()
 },
 "nbformat": 4,
 "nbformat_minor": 4
}
